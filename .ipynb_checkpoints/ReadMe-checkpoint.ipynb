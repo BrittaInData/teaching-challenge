{
 "cells": [
  {
   "cell_type": "markdown",
   "metadata": {},
   "source": [
    "# Teaching Challenge\n",
    "\n",
    "Here I wanted to challenge my teaching skills trying to explain a Data Science rookie how to use Python to visualize Facebook's share price over (the last) 30 days. \n",
    "\n",
    "Assuming the student has never visualized a data set (such as a CSV file) in Python before, the learning goal is to enable someone to later visualize stock prices on their own.\n",
    "\n",
    "![](12ba2abb8f366ddb2d3a8688b691e694--minions-love-minions-despicable-me.jpg)"
   ]
  }
 ],
 "metadata": {
  "kernelspec": {
   "display_name": "Python 3",
   "language": "python",
   "name": "python3"
  },
  "language_info": {
   "codemirror_mode": {
    "name": "ipython",
    "version": 3
   },
   "file_extension": ".py",
   "mimetype": "text/x-python",
   "name": "python",
   "nbconvert_exporter": "python",
   "pygments_lexer": "ipython3",
   "version": "3.7.3"
  }
 },
 "nbformat": 4,
 "nbformat_minor": 2
}
